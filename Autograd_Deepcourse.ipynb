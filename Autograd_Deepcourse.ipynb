{
  "cells": [
    {
      "cell_type": "markdown",
      "metadata": {
        "id": "view-in-github",
        "colab_type": "text"
      },
      "source": [
        "<a href=\"https://colab.research.google.com/github/K-bNd/dnn-courses/blob/main/Autograd_Deepcourse.ipynb\" target=\"_parent\"><img src=\"https://colab.research.google.com/assets/colab-badge.svg\" alt=\"Open In Colab\"/></a>"
      ]
    },
    {
      "cell_type": "markdown",
      "metadata": {
        "id": "g3TS3x6pxBB0"
      },
      "source": [
        "<center><h1>Automatic Differentiation with Autograd</h1></center>\n",
        "\n",
        "<center><h2><a href=\"https://deepcourse-epita.netlify.app/\">Course link</a></h2></center>\n",
        "\n",
        "To keep your modifications in case you want to come back later to this colab, do *File -> Save a copy in Drive*.\n",
        "\n",
        "If you find a mistake, or know how to improve this notebook, please open an issue [here](https://gitlab.com/ey_datakalab/course_epita).\n",
        "\n",
        "In this notebook, we will see that we don't need to define the gradients of all our fancy operations. Pytorch's autograd can automatically find the gradients for us.\n",
        "\n",
        "After a few exercice on this, we will recode our MLP from [last course](https://deepcourse-epita.netlify.app/notebooks/Backpropagation_Deepcourse.ipynb) with the backward pass implemented with autograd.\n",
        "\n",
        "Finally, we will discover `torch.nn`, the package containing pre-implemented deep learning layers and how we can code a MLP using it.\n",
        "\n",
        "In the next code block, we are loading the data that will be useful later on."
      ]
    },
    {
      "cell_type": "code",
      "execution_count": null,
      "metadata": {
        "id": "rB9o31WUpe9k",
        "colab": {
          "base_uri": "https://localhost:8080/",
          "height": 263
        },
        "outputId": "d532b77c-e808-4b92-ef7d-f6b15d28c90c"
      },
      "outputs": [
        {
          "output_type": "stream",
          "name": "stdout",
          "text": [
            "Min and max value: 0.0, 1.0\n",
            "Flatenned images shape: torch.Size([1797, 64])\n"
          ]
        },
        {
          "output_type": "display_data",
          "data": {
            "text/plain": [
              "<Figure size 640x480 with 3 Axes>"
            ],
            "image/png": "[encoded data removed]"
          },
          "metadata": {}
        }
      ],
      "source": [
        "%matplotlib inline\n",
        "\n",
        "import torch\n",
        "import numpy as np\n",
        "from sklearn.datasets import load_digits\n",
        "import matplotlib.pyplot as plt\n",
        "\n",
        "digits = load_digits()\n",
        "X = torch.tensor(digits[\"images\"]).float()\n",
        "Y = torch.tensor(digits[\"target\"]).long()\n",
        "\n",
        "plt.subplot(1, 3, 1)\n",
        "plt.imshow(X[42], cmap=\"gray\")\n",
        "plt.title(f\"Digit: {Y[42]}\");\n",
        "\n",
        "plt.subplot(1, 3, 2)\n",
        "plt.imshow(X[64], cmap=\"gray\")\n",
        "plt.title(f\"Digit: {Y[64]}\");\n",
        "\n",
        "plt.subplot(1, 3, 3)\n",
        "plt.imshow(X[1337], cmap=\"gray\")\n",
        "plt.title(f\"Digit: {Y[1337]}\");\n",
        "\n",
        "X = X / X.max()\n",
        "print(f\"Min and max value: {X.min()}, {X.max()}\")\n",
        "\n",
        "X = X.view(X.shape[0], -1)\n",
        "print(f\"Flatenned images shape: {X.shape}\")"
      ]
    },
    {
      "cell_type": "markdown",
      "metadata": {
        "id": "4Gp8MB_4pe9k"
      },
      "source": [
        "---\n",
        "\n",
        "# 1. Autograd tutorial\n",
        "\n",
        "Torch tensors have two optional attributes: `requires_grad`, and `grad`. The former says that we want the gradients to be computed for this given tensor, and the latter stores the actual gradients.\n",
        "\n",
        "By default `requires_grad` is false. When does it make sense to have it false? For example when:\n",
        "- the tensor is the images pixels. We don't want to optimize those;\n",
        "- we don't want to update the tensor/weights, because we want it *frozen* (more on it in later courses).\n",
        "\n",
        "Let's have a quick example, with the power of two function:\n",
        "\n",
        "$f(x) = x^2 \\rightarrow f'(x) = 2x$\n",
        "\n",
        "Thus $f(4) = 16$ and $f'(4) = 8$."
      ]
    },
    {
      "cell_type": "code",
      "execution_count": null,
      "metadata": {
        "id": "Qj8tzaghpe9k",
        "colab": {
          "base_uri": "https://localhost:8080/"
        },
        "outputId": "f2a2c2d5-242a-427a-cdce-2def23452d5b"
      },
      "outputs": [
        {
          "output_type": "stream",
          "name": "stdout",
          "text": [
            "x=4.0, f(4.0)=16.0\n",
            "x=4.0, f'(4.0)=8.0\n"
          ]
        }
      ],
      "source": [
        "x = torch.tensor(4., requires_grad=True)\n",
        "\n",
        "def f(x):\n",
        "  return x ** 2\n",
        "\n",
        "y = f(x)\n",
        "print(f\"x={x}, f({x})={y}\")\n",
        "\n",
        "# We ask autograd to \"backward\" the gradients up to the start\n",
        "y.backward()\n",
        "\n",
        "print(f\"x={x}, f'({x})={x.grad}\")"
      ]
    },
    {
      "cell_type": "markdown",
      "metadata": {
        "id": "JD698wRg0aC4"
      },
      "source": [
        "Note that `backward` can, by default, only be called on a **scalar** (aka a number), not on a **tensor** (aka a vector, matrix, etc.). That's a specificity of pytorch.\n",
        "\n",
        "Here is two examples of how we can deal with that:"
      ]
    },
    {
      "cell_type": "code",
      "execution_count": null,
      "metadata": {
        "id": "newLoOBkpe9k",
        "colab": {
          "base_uri": "https://localhost:8080/"
        },
        "outputId": "616e85ec-d729-4fcd-8df9-da14f047462c"
      },
      "outputs": [
        {
          "output_type": "stream",
          "name": "stdout",
          "text": [
            "Gradients: tensor([2., 8., 4.])\n",
            "Gradients: tensor([2., 8., 4.])\n"
          ]
        }
      ],
      "source": [
        "x = torch.tensor([1., 4., 2.], requires_grad=True)\n",
        "(x ** 2).sum().backward()\n",
        "print(f\"Gradients: {x.grad}\")\n",
        "\n",
        "x = torch.tensor([1., 4., 2.], requires_grad=True)\n",
        "(x ** 2).backward(torch.tensor([1, 1, 1]))\n",
        "print(f\"Gradients: {x.grad}\")"
      ]
    },
    {
      "cell_type": "markdown",
      "metadata": {
        "id": "yijKe_DM2Z1A"
      },
      "source": [
        "Now let's take the formulas of a fully connected layer with 1 output...\n",
        "\n",
        "$\\mathbf{x} \\in \\mathbb{R^n}$, $\\mathbf{W} \\in \\mathbb{R^{n}}$, and $\\mathbf{b} \\in \\mathbb{R}$:\n",
        "\n",
        "$\\mathbf{h} = \\mathbf{W}\\mathbf{x} + \\mathbf{b}$\n",
        "\n",
        "... and code it in pytorch! What are gradients w.r.t the weights $\\mathbf{W}$ and $\\mathbf{b}$ according to you? Check it with autograd."
      ]
    },
    {
      "cell_type": "code",
      "execution_count": null,
      "metadata": {
        "id": "QpKoK3TIwUsU",
        "colab": {
          "base_uri": "https://localhost:8080/"
        },
        "outputId": "230db3bf-371d-4367-a0bd-931c805517d3"
      },
      "outputs": [
        {
          "output_type": "stream",
          "name": "stdout",
          "text": [
            "x is\n",
            " tensor([0.0886, 0.5077])\n",
            "grad W is\n",
            " tensor([0.0886, 0.5077])\n",
            "grad b is\n",
            " tensor([1.])\n"
          ]
        }
      ],
      "source": [
        "n = 2\n",
        "w = torch.randn(n, requires_grad=True)\n",
        "b = torch.randn(1, requires_grad=True)\n",
        "x = torch.randn(n)\n",
        "\n",
        "h = torch.dot(w, x) + b\n",
        "h.backward()\n",
        "\n",
        "print(f\"x is\\n {x}\")\n",
        "print(f\"grad W is\\n {w.grad}\")\n",
        "print(f\"grad b is\\n {b.grad}\")"
      ]
    },
    {
      "cell_type": "markdown",
      "metadata": {
        "id": "6xtDKHtJ6gQU"
      },
      "source": [
        "That's right, $\\nabla_\\mathbf{W} \\mathcal{L} = \\mathbf{x}$ and $\\nabla_\\mathbf{b} \\mathcal{L} = 1$. But what happens if our layer has not 1 outputs but $m$ with $\\mathbf{W} \\in \\mathbb{R^{m \\times n}}$, and $\\mathbf{b} \\in \\mathbb{R^{m}}$?"
      ]
    },
    {
      "cell_type": "code",
      "execution_count": null,
      "metadata": {
        "id": "NzDXw9AP55Eg",
        "colab": {
          "base_uri": "https://localhost:8080/"
        },
        "outputId": "dde15614-9722-424d-c3e4-52af661caa9a"
      },
      "outputs": [
        {
          "output_type": "stream",
          "name": "stdout",
          "text": [
            "x is\n",
            " tensor([-0.8709, -1.7236])\n",
            "grad W is\n",
            " tensor([[-0.8709, -1.7236],\n",
            "        [-0.8709, -1.7236],\n",
            "        [-0.8709, -1.7236]])\n",
            "grad b is\n",
            " tensor([1., 1., 1.])\n"
          ]
        }
      ],
      "source": [
        "n, m = 2, 3\n",
        "\n",
        "w = torch.randn(m, n, requires_grad=True)\n",
        "b = torch.randn(m, requires_grad=True)\n",
        "x = torch.randn(n)\n",
        "\n",
        "# torch.mv for \"Matrix-Matrix product\"\n",
        "h = torch.mv(w, x) + b\n",
        "h.sum().backward()\n",
        "\n",
        "print(f\"x is\\n {x}\")\n",
        "print(f\"grad W is\\n {w.grad}\")\n",
        "print(f\"grad b is\\n {b.grad}\")"
      ]
    },
    {
      "cell_type": "markdown",
      "metadata": {
        "id": "BuxWKesPYVsg"
      },
      "source": [
        "$\\nabla_\\mathbf{W} \\mathcal{L}$ is simply $\\mathbf{x}$ stacked $m$ times. Which can do with an outer product:"
      ]
    },
    {
      "cell_type": "code",
      "execution_count": null,
      "metadata": {
        "id": "tlYzbk3LXzvE",
        "colab": {
          "base_uri": "https://localhost:8080/"
        },
        "outputId": "d499c6b9-95ca-45ad-bb96-2a952ef2d629"
      },
      "outputs": [
        {
          "output_type": "execute_result",
          "data": {
            "text/plain": [
              "tensor([[-0.8709, -1.7236],\n",
              "        [-0.8709, -1.7236],\n",
              "        [-0.8709, -1.7236]])"
            ]
          },
          "metadata": {},
          "execution_count": 6
        }
      ],
      "source": [
        "torch.outer(torch.tensor([1., 1., 1.]), x)"
      ]
    },
    {
      "cell_type": "markdown",
      "metadata": {
        "id": "GK3qDsUZYuKI"
      },
      "source": [
        "Intuitively, it means that $\\mathbf{x}$ contributes equally to each output dimension of the fully connected layer.\n",
        "\n",
        "Now, let's add a dimension to $\\mathbf{x} \\in \\mathbb{R^{k \\times n}}$ where $k$ represent the **batch size** (how many samples do we see in the same forward/backward pass). In doubt, look at the shape of each tensors to see how to do it."
      ]
    },
    {
      "cell_type": "code",
      "execution_count": null,
      "metadata": {
        "id": "LZv-HGAPWmwg",
        "colab": {
          "base_uri": "https://localhost:8080/"
        },
        "outputId": "e0561828-a831-4e42-d229-a462396ef654"
      },
      "outputs": [
        {
          "output_type": "stream",
          "name": "stdout",
          "text": [
            "Output shape is torch.Size([4, 3])\n",
            "x is\n",
            " tensor([[ 0.4733,  0.5258],\n",
            "        [-0.0828,  0.1386],\n",
            "        [-1.2410, -1.3606],\n",
            "        [ 0.6305,  0.7785]])\n",
            "grad W is\n",
            " tensor([[-0.2201, -0.2201, -0.2201],\n",
            "        [ 0.0823,  0.0823,  0.0823]])\n",
            "grad b is\n",
            " tensor([4., 4., 4.])\n"
          ]
        }
      ],
      "source": [
        "k, n, m = 4, 2, 3\n",
        "\n",
        "w = torch.randn(n, m, requires_grad=True)\n",
        "b = torch.randn(m, requires_grad=True)\n",
        "x = torch.randn(k, n)\n",
        "\n",
        "# torch.nmv for \"Matrix-Matrix product\"\n",
        "h = torch.mm(x, w) + b\n",
        "print(f\"Output shape is {h.shape}\")\n",
        "h.sum().backward()\n",
        "\n",
        "print(f\"x is\\n {x}\")\n",
        "print(f\"grad W is\\n {w.grad}\")\n",
        "print(f\"grad b is\\n {b.grad}\")"
      ]
    },
    {
      "cell_type": "markdown",
      "metadata": {
        "id": "gvrEvYcHZU50"
      },
      "source": [
        "Notice that, now, we do a matrix multiplication between $\\mathbf{X}$ on the left, and $\\mathbf{W}$ on the right. Intuitively we don't want to change the batch size $k$ dimension of the inputs, but only the features dimension $n$.\n",
        "\n",
        "Now the values of $\\nabla_\\mathbf{W} \\mathcal{L}$ and $\\nabla_\\mathbf{b} \\mathcal{L}$ are dependent on the batch size $k$. Which is why we usually normalize both gradients by $k$:"
      ]
    },
    {
      "cell_type": "code",
      "execution_count": null,
      "metadata": {
        "id": "1nOvlkJWXkuI",
        "colab": {
          "base_uri": "https://localhost:8080/"
        },
        "outputId": "98deda28-06da-4e08-87b3-5e8f054f2422"
      },
      "outputs": [
        {
          "output_type": "stream",
          "name": "stdout",
          "text": [
            "Mean of x alongside the batch dimension (first one) is\n",
            " tensor([-0.0550,  0.0206])\n",
            "Normalized w grad is\n",
            " tensor([[-0.0550, -0.0550, -0.0550],\n",
            "        [ 0.0206,  0.0206,  0.0206]])\n",
            "Normalized b grad is\n",
            " tensor([1., 1., 1.])\n"
          ]
        }
      ],
      "source": [
        "print(f\"Mean of x alongside the batch dimension (first one) is\\n {x.mean(dim=0)}\")\n",
        "print(f\"Normalized w grad is\\n {w.grad / k}\")\n",
        "print(f\"Normalized b grad is\\n {b.grad / k}\")\n"
      ]
    },
    {
      "cell_type": "markdown",
      "metadata": {
        "id": "j-N7o-1h3x6g"
      },
      "source": [
        "---\n",
        "\n",
        "# 2. MLP with Autograd\n",
        "\n",
        "Let's recode the MLP from previous session with autograd, we only have to modify the backward pass.\n",
        "\n",
        "Notice that we have wrapped the weights and biases into a `Parameter` class. By default it will force the wrapped tensor to requires the gradient among other stuffs.\n",
        "\n",
        "**Important**: when updating the weights and biases parameters, you have to modify their `data` attribute, not the actual tensor. Every operation done on a tensor that requires grad is recorded in order for Autograd to compute the necessary gradients. But we don't need that when updating the weights and biases.\n",
        "\n",
        "```python\n",
        "new_w = old_w - lr * gradient  # Bad\n",
        "\n",
        "new_w.data = old_w.data - lr * gradient  # Good``\n",
        "```"
      ]
    },
    {
      "cell_type": "code",
      "execution_count": null,
      "metadata": {
        "id": "h0HOkht3eTaM"
      },
      "outputs": [],
      "source": [
        "from torch.nn import Parameter\n",
        "\n",
        "def softmax(x):\n",
        "    maximum_value = x.max(dim=1, keepdims=True)[0]\n",
        "    e = torch.exp(x - maximum_value)\n",
        "    return e / e.sum(dim=1, keepdims=True)\n",
        "\n",
        "def cross_entropy(probs, targets):\n",
        "    return -torch.sum(targets * torch.log(probs + 1e-8), dim=1)"
      ]
    },
    {
      "cell_type": "code",
      "execution_count": null,
      "metadata": {
        "id": "KsCQhtWPpe9k"
      },
      "outputs": [],
      "source": [
        "class MLP:\n",
        "    def __init__(self, input_size, hidden_size, nb_classes, learning_rate=0.01):\n",
        "        self.w_hidden = Parameter(torch.randn(input_size, hidden_size).float())\n",
        "        self.b_hidden = Parameter(torch.zeros(hidden_size).float())\n",
        "\n",
        "        self.w_output = Parameter(torch.randn(hidden_size, nb_classes).float())\n",
        "        self.b_output = Parameter(torch.zeros(nb_classes).float())\n",
        "\n",
        "        self.learning_rate = learning_rate\n",
        "\n",
        "    def forward(self, x):\n",
        "        # Use torch.mm and torch.tanh\n",
        "        h_tilde = torch.mm(x, self.w_hidden) + self.b_hidden # TODO\n",
        "        h = torch.tanh(h_tilde) # TODO\n",
        "        logits = torch.mm(h, self.w_output) + self.b_output # TODO\n",
        "\n",
        "        return logits, h_tilde, h\n",
        "\n",
        "    def fit(self, inputs, targets, train=True):\n",
        "        logits, *outputs = self.forward(inputs)\n",
        "        probs = softmax(logits)\n",
        "        loss = cross_entropy(probs, torch.eye(10)[targets]).mean()\n",
        "        if train:\n",
        "            self.backward(inputs, probs, targets, loss, *outputs)\n",
        "        return loss\n",
        "\n",
        "    def backward(self, inputs, probs, targets, loss, h_tilde, h):\n",
        "        batch_size = len(probs)\n",
        "\n",
        "        loss.backward()  # Fill the graph with .grad attributes\n",
        "\n",
        "        self.w_hidden.data = self.w_hidden.data - self.learning_rate * self.w_hidden.grad / batch_size # TODO, update all learnable parameters\n",
        "        self.b_hidden.data = self.b_hidden.data - self.learning_rate * self.b_hidden.grad / batch_size\n",
        "        self.w_output.data = self.w_output.data - self.learning_rate * self.w_output.grad / batch_size\n",
        "        self.b_output.data = self.b_output.data - self.learning_rate * self.b_output.grad / batch_size\n",
        "\n",
        "    def accuracy(self, inputs, targets):\n",
        "        y_pred = self.forward(inputs)[0].argmax(dim=1)\n",
        "        y_true = targets\n",
        "\n",
        "        return torch.mean((y_pred == y_true).float())"
      ]
    },
    {
      "cell_type": "code",
      "execution_count": null,
      "metadata": {
        "id": "UmR9j8iNku30",
        "colab": {
          "base_uri": "https://localhost:8080/"
        },
        "outputId": "e25cc0b1-25f2-426f-f2b8-cec3866232f2"
      },
      "outputs": [
        {
          "output_type": "stream",
          "name": "stdout",
          "text": [
            "--2023-10-31 09:42:16--  https://deepcourse-epita.netlify.app/code/backpropagation/mlp_autograd.py\n",
            "Resolving deepcourse-epita.netlify.app (deepcourse-epita.netlify.app)... 44.217.161.11, 18.213.222.111, 2600:1f18:16e:df02::64, ...\n",
            "Connecting to deepcourse-epita.netlify.app (deepcourse-epita.netlify.app)|44.217.161.11|:443... connected.\n",
            "HTTP request sent, awaiting response... 200 OK\n",
            "Length: 1660 (1.6K) [text/x-python3]\n",
            "Saving to: ‘mlp_autograd.py.2’\n",
            "\n",
            "\rmlp_autograd.py.2     0%[                    ]       0  --.-KB/s               \rmlp_autograd.py.2   100%[===================>]   1.62K  --.-KB/s    in 0s      \n",
            "\n",
            "2023-10-31 09:42:16 (42.4 MB/s) - ‘mlp_autograd.py.2’ saved [1660/1660]\n",
            "\n"
          ]
        }
      ],
      "source": [
        "# Execute this cell to see the solution, but try to do it by yourself before!\n",
        "!wget https://deepcourse-epita.netlify.app/code/backpropagation/mlp_autograd.py\n",
        "%pycat mlp_autograd.py"
      ]
    },
    {
      "cell_type": "code",
      "execution_count": null,
      "metadata": {
        "id": "1pntveIepe9k",
        "colab": {
          "base_uri": "https://localhost:8080/"
        },
        "outputId": "37cef052-25ea-4674-941e-67fe542ea5a5"
      },
      "outputs": [
        {
          "output_type": "error",
          "ename": "TypeError",
          "evalue": "ignored",
          "traceback": [
            "\u001b[0;31m---------------------------------------------------------------------------\u001b[0m",
            "\u001b[0;31mTypeError\u001b[0m                                 Traceback (most recent call last)",
            "\u001b[0;32m<ipython-input-25-e85487abcce3>\u001b[0m in \u001b[0;36m<cell line: 1>\u001b[0;34m()\u001b[0m\n\u001b[0;32m----> 1\u001b[0;31m \u001b[0mmodel\u001b[0m \u001b[0;34m=\u001b[0m \u001b[0mMLP\u001b[0m\u001b[0;34m(\u001b[0m\u001b[0mX\u001b[0m\u001b[0;34m.\u001b[0m\u001b[0mshape\u001b[0m\u001b[0;34m[\u001b[0m\u001b[0;36m1\u001b[0m\u001b[0;34m]\u001b[0m\u001b[0;34m,\u001b[0m \u001b[0;36m50\u001b[0m\u001b[0;34m,\u001b[0m \u001b[0mlen\u001b[0m\u001b[0;34m(\u001b[0m\u001b[0mtorch\u001b[0m\u001b[0;34m.\u001b[0m\u001b[0munique\u001b[0m\u001b[0;34m(\u001b[0m\u001b[0mY\u001b[0m\u001b[0;34m)\u001b[0m\u001b[0;34m)\u001b[0m\u001b[0;34m,\u001b[0m \u001b[0;36m0.1\u001b[0m\u001b[0;34m)\u001b[0m\u001b[0;34m\u001b[0m\u001b[0;34m\u001b[0m\u001b[0m\n\u001b[0m\u001b[1;32m      2\u001b[0m \u001b[0mmodel\u001b[0m\u001b[0;34m.\u001b[0m\u001b[0maccuracy\u001b[0m\u001b[0;34m(\u001b[0m\u001b[0mX\u001b[0m\u001b[0;34m,\u001b[0m \u001b[0mY\u001b[0m\u001b[0;34m)\u001b[0m\u001b[0;34m\u001b[0m\u001b[0;34m\u001b[0m\u001b[0m\n\u001b[1;32m      3\u001b[0m \u001b[0;34m\u001b[0m\u001b[0m\n\u001b[1;32m      4\u001b[0m \u001b[0mbatch_size\u001b[0m \u001b[0;34m=\u001b[0m \u001b[0;36m32\u001b[0m\u001b[0;34m\u001b[0m\u001b[0;34m\u001b[0m\u001b[0m\n\u001b[1;32m      5\u001b[0m \u001b[0mnb_epochs\u001b[0m \u001b[0;34m=\u001b[0m \u001b[0;36m10\u001b[0m\u001b[0;34m\u001b[0m\u001b[0;34m\u001b[0m\u001b[0m\n",
            "\u001b[0;31mTypeError\u001b[0m: MLP.__init__() takes 4 positional arguments but 5 were given"
          ]
        }
      ],
      "source": [
        "model = MLP(X.shape[1], 50, len(torch.unique(Y)), 0.1)\n",
        "model.accuracy(X, Y)\n",
        "\n",
        "batch_size = 32\n",
        "nb_epochs = 10\n",
        "\n",
        "epochs, accuracies, losses = [], [], []\n",
        "\n",
        "for epoch in range(nb_epochs):\n",
        "    for batch_index in range(0, len(X), batch_size):\n",
        "        batch_X = X[batch_index:batch_index + batch_size]\n",
        "        batch_Y = Y[batch_index:batch_index + batch_size]\n",
        "\n",
        "        model.fit(batch_X, batch_Y)\n",
        "\n",
        "    loss = model.fit(X, Y, train=False).item()\n",
        "    acc = model.accuracy(X, Y)\n",
        "\n",
        "    print(f\"Epoch: {epoch}, loss: {loss}, accuracy: {acc}\")\n",
        "    epochs.append(epoch)\n",
        "    losses.append(loss)\n",
        "    accuracies.append(acc)\n",
        "\n",
        "plt.subplot(1, 2, 1)\n",
        "plt.plot(epochs, losses)\n",
        "plt.xlabel(\"Epoch\")\n",
        "plt.ylabel(\"Loss\")\n",
        "\n",
        "plt.subplot(1, 2, 2)\n",
        "plt.plot(epochs, accuracies)\n",
        "plt.xlabel(\"Epoch\")\n",
        "plt.ylabel(\"accuracy\");"
      ]
    },
    {
      "cell_type": "markdown",
      "metadata": {
        "id": "-RfrsA_qeIX8"
      },
      "source": [
        "---\n",
        "\n",
        "# 3. MLP with `torch.nn`"
      ]
    },
    {
      "cell_type": "code",
      "execution_count": null,
      "metadata": {
        "id": "IAMDWiBmpe9k"
      },
      "outputs": [],
      "source": [
        "from torch import nn\n",
        "from torch.nn import functional as F\n",
        "\n",
        "\n",
        "class MLP(nn.Module):\n",
        "  def __init__(self, input_size, hidden_size, nb_classes):\n",
        "    super().__init__()  # Important! torch initializes a bunch of stuff with this line\n",
        "    self.fc1 = nn.Linear(input_size, hidden_size, bias=True)\n",
        "    self.fc2 = nn.Linear(hidden_size, nb_classes, bias=True)\n",
        "\n",
        "  def forward(self, x):\n",
        "    h = torch.tanh(self.fc1(x))\n",
        "    return self.fc2(h)\n",
        "\n",
        "\n",
        "def compute_accuracy(y_pred, y_true):\n",
        "  return torch.mean((y_pred == y_true).float())\n",
        "\n",
        "\n",
        "model = MLP(X.shape[1], 50, len(torch.unique(Y)))\n",
        "optimizer = torch.optim.SGD(model.parameters(), lr=0.1)\n",
        "\n",
        "batch_size = 32\n",
        "nb_epochs = 10\n",
        "\n",
        "epochs, accuracies, losses = [], [], []\n",
        "\n",
        "model.train()\n",
        "\n",
        "for epoch in range(nb_epochs):\n",
        "    for batch_index in range(0, len(X), batch_size):\n",
        "        batch_X = X[batch_index:batch_index + batch_size]\n",
        "        batch_Y = Y[batch_index:batch_index + batch_size]\n",
        "\n",
        "        optimizer.zero_grad()\n",
        "        logits = model(batch_X)\n",
        "        loss = F.cross_entropy(logits, batch_Y)  # Does implicitely softmax+CE\n",
        "        loss.backward()\n",
        "        optimizer.step()\n",
        "\n",
        "\n",
        "    model.eval()\n",
        "    logits = model(X)\n",
        "    loss = F.cross_entropy(logits, Y)\n",
        "    acc = compute_accuracy(logits.argmax(dim=1), Y)\n",
        "    model.train()\n",
        "\n",
        "    print(f\"Epoch: {epoch}, loss: {loss}, accuracy: {acc}\")\n",
        "    epochs.append(epoch)\n",
        "    losses.append(loss)\n",
        "    accuracies.append(acc)\n",
        "\n",
        "plt.subplot(1, 2, 1)\n",
        "print(epochs, losses)\n",
        "plt.plot(epochs, losses)\n",
        "plt.xlabel(\"Epoch\")\n",
        "plt.ylabel(\"Loss\")\n",
        "\n",
        "plt.subplot(1, 2, 2)\n",
        "plt.plot(epochs, accuracies)\n",
        "plt.xlabel(\"Epoch\")\n",
        "plt.ylabel(\"accuracy\");\n",
        "\n"
      ]
    },
    {
      "cell_type": "markdown",
      "metadata": {
        "id": "a4Ovs3oklVQE"
      },
      "source": [
        "Try by yourself to extend this network and see the results:\n",
        "- add more layers\n",
        "- change the hidden dimension size\n",
        "- change the non-linearity"
      ]
    }
  ],
  "metadata": {
    "colab": {
      "provenance": [],
      "include_colab_link": true
    },
    "kernelspec": {
      "display_name": "Python 3",
      "language": "python",
      "name": "python3"
    },
    "language_info": {
      "codemirror_mode": {
        "name": "ipython",
        "version": 3
      },
      "file_extension": ".py",
      "mimetype": "text/x-python",
      "name": "python",
      "nbconvert_exporter": "python",
      "pygments_lexer": "ipython3",
      "version": "3.8.5"
    },
    "vscode": {
      "interpreter": {
        "hash": "b1e0d1e6a59436e31d783bfd26c5b6f60e538c30c9ef3720fa8b1187e8407f58"
      }
    }
  },
  "nbformat": 4,
  "nbformat_minor": 0
}