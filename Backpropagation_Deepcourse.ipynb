{
  "cells": [
    {
      "cell_type": "markdown",
      "metadata": {
        "id": "fA6tTUFMsOVA"
      },
      "source": [
        "<center><h1>Backpropagation From Scratch</h1></center>\n",
        "\n",
        "<center><h2><a href=\"https://deepcourse-epita.netlify.app/\">Course link</a></h2></center>\n",
        "\n",
        "To keep your modifications in case you want to come back later to this colab, do *File -> Save a copy in Drive*.\n",
        "\n",
        "If you find a mistake, or know how to improve this notebook, please open an issue [here](https://gitlab.com/ey_datakalab/course_epita).\n",
        "\n",
        "In this notebook, we'll code a **Logistic Regression** and a two-layers **Multi-Layer Perceptron** (MLP) from scratch.\n",
        "\n",
        "We'll use **pytorch** a deep learning framework. It provides many utilities for neural networks (layers, optimizers, automatic differentiation), but we'll only use its API to manipulate tensors as we would with numpy.\n",
        "\n",
        "The goal will be to learn a model with **backpropagation** in order to classify digits (0, 1, 2, ..., 9) from images.\n",
        "\n",
        "---\n",
        "\n",
        "# 1. Loading Data"
      ]
    },
    {
      "cell_type": "code",
      "execution_count": null,
      "metadata": {
        "id": "SssNn_kZqgkA"
      },
      "outputs": [],
      "source": [
        "%matplotlib inline"
      ]
    },
    {
      "cell_type": "code",
      "execution_count": null,
      "metadata": {
        "id": "ow5mTbXbqgkA"
      },
      "outputs": [],
      "source": [
        "import torch\n",
        "import numpy as np\n",
        "from sklearn.datasets import load_digits\n",
        "import matplotlib.pyplot as plt\n",
        "\n",
        "digits = load_digits()"
      ]
    },
    {
      "cell_type": "code",
      "execution_count": null,
      "metadata": {
        "id": "39IslwwyqgkA",
        "colab": {
          "base_uri": "https://localhost:8080/"
        },
        "outputId": "d29cef79-fa62-44df-bb19-8083c494482f"
      },
      "outputs": [
        {
          "output_type": "stream",
          "name": "stdout",
          "text": [
            "Images shape: torch.Size([1797, 8, 8]), targets shape: torch.Size([1797])\n"
          ]
        }
      ],
      "source": [
        "X = torch.tensor(digits[\"images\"]).float()\n",
        "Y = torch.tensor(digits[\"target\"]).long()\n",
        "\n",
        "print(f\"Images shape: {X.shape}, targets shape: {Y.shape}\")"
      ]
    },
    {
      "cell_type": "markdown",
      "metadata": {
        "id": "hdlG3T1ItnqM"
      },
      "source": [
        "We have 1797 images, each of size 8x8. As you see, there is no **channel dimension** meaning that our images are in grayscale. Which is ok for now, as we only want to classify digits.\n",
        "\n",
        "The targets shape is 1797 because, for each image a target is simply an integer representing the digit.\n",
        "\n",
        "Now that our data is loaded, we need to visualize it. Always look at your data before doing anything! Something may be wrong with the data (not in this case)."
      ]
    },
    {
      "cell_type": "code",
      "execution_count": null,
      "metadata": {
        "id": "580c7iZbqgkA",
        "colab": {
          "base_uri": "https://localhost:8080/",
          "height": 228
        },
        "outputId": "4a57a9ed-808a-4510-b31c-d11c21c0a687"
      },
      "outputs": [
        {
          "output_type": "display_data",
          "data": {
            "text/plain": [
              "<Figure size 640x480 with 3 Axes>"
            ],
            "image/png": "[encoded data removed]"
          },
          "metadata": {}
        }
      ],
      "source": [
        "plt.subplot(1, 3, 1)\n",
        "plt.imshow(X[42], cmap=\"gray\")\n",
        "plt.title(f\"Digit: {Y[42]}\");\n",
        "\n",
        "plt.subplot(1, 3, 2)\n",
        "plt.imshow(X[64], cmap=\"gray\")\n",
        "plt.title(f\"Digit: {Y[64]}\");\n",
        "\n",
        "plt.subplot(1, 3, 3)\n",
        "plt.imshow(X[1337], cmap=\"gray\")\n",
        "plt.title(f\"Digit: {Y[1337]}\");"
      ]
    },
    {
      "cell_type": "markdown",
      "metadata": {
        "id": "t8mH_DnCubqU"
      },
      "source": [
        "For this dataset, the pixels are coded with 4 bits, meaning that we can have values from 0 to 16 ($2^4$). In deep learning, it's very important to normalize the data in order to have all inputs of relatively the same magnitude.\n",
        "\n",
        "**Beware**: this preprocessing must be done for both the train and test sets! A lot of bugs come from using a slightly different preprocessing between the two sets."
      ]
    },
    {
      "cell_type": "code",
      "execution_count": null,
      "metadata": {
        "id": "hKyjzJB2qgkA",
        "colab": {
          "base_uri": "https://localhost:8080/"
        },
        "outputId": "1507db45-69d5-4cef-eb9d-ae56b3a62086"
      },
      "outputs": [
        {
          "output_type": "stream",
          "name": "stdout",
          "text": [
            "Min and max value of images pixels [0.0, 16.0]\n",
            "Min and max value of normalized images pixels [0.0, 1.0]\n"
          ]
        }
      ],
      "source": [
        "print(f\"Min and max value of images pixels [{X.min()}, {X.max()}]\")\n",
        "X = X / 16\n",
        "print(f\"Min and max value of normalized images pixels [{X.min()}, {X.max()}]\")"
      ]
    },
    {
      "cell_type": "markdown",
      "metadata": {
        "id": "lXAFeiDh1_q4"
      },
      "source": [
        "MLP only accepts inputs that are vectors, thus we will flatten our images into vectors:"
      ]
    },
    {
      "cell_type": "code",
      "execution_count": null,
      "metadata": {
        "id": "MWV7bkVLqgkA",
        "colab": {
          "base_uri": "https://localhost:8080/"
        },
        "outputId": "4d61197c-204f-4259-d2e4-be42d10a9678"
      },
      "outputs": [
        {
          "output_type": "stream",
          "name": "stdout",
          "text": [
            "Images shape: torch.Size([1797, 8, 8])\n",
            "Flatten images shape: torch.Size([1797, 64])\n"
          ]
        }
      ],
      "source": [
        "# Flatten images as vectors\n",
        "print(f\"Images shape: {X.shape}\")\n",
        "X = X.view(X.shape[0], -1)\n",
        "print(f\"Flatten images shape: {X.shape}\")"
      ]
    },
    {
      "cell_type": "markdown",
      "metadata": {
        "id": "GndkrKA82b_Y"
      },
      "source": [
        "---\n",
        "\n",
        "# 2. Activation Functions\n",
        "\n",
        "Now that the data is loaded and preprocessed, we need to code the non-linear activation functions that are essential to deep learning.\n",
        "\n",
        "First let's start by `softmax`, the final activation, that will give us a probability per digit. It takes as input a vector of **logits** (the final outputs of the network before softmax, one value per digit) and returns a vector of probabilities.\n",
        "\n",
        "Here is the formula for the $i^\\text{th}$ probability:\n",
        "\n",
        "$$\\text{softmax}(\\mathbf{x})_i = \\frac{e^{x_i}}{\\sum_j e^{x_j}}$$"
      ]
    },
    {
      "cell_type": "code",
      "execution_count": null,
      "metadata": {
        "id": "muyzo7ohqgkA",
        "colab": {
          "base_uri": "https://localhost:8080/"
        },
        "outputId": "6348465e-a91b-4c2c-8ddf-c210083b4529"
      },
      "outputs": [
        {
          "output_type": "stream",
          "name": "stdout",
          "text": [
            "tensor([0.0900, 0.2447, 0.6652])\n",
            "tensor([2.4723e-03, 1.0917e-04, 1.8458e-06, 9.9742e-01])\n"
          ]
        }
      ],
      "source": [
        "def softmax(x):\n",
        "  exp_x = torch.exp(x)\n",
        "  return exp_x / exp_x.sum()\n",
        "print(softmax(torch.tensor([1., 2., 3.])))\n",
        "print(softmax(torch.tensor([3., -0.12, -4.2, 9])))"
      ]
    },
    {
      "cell_type": "code",
      "execution_count": null,
      "metadata": {
        "id": "D1oB0x5JAmQk",
        "colab": {
          "base_uri": "https://localhost:8080/"
        },
        "outputId": "6d7f2690-166e-43a0-cbce-12713cd57872"
      },
      "outputs": [
        {
          "output_type": "stream",
          "name": "stdout",
          "text": [
            "--2023-12-13 21:48:37--  https://deepcourse-epita.netlify.app/code/backpropagation/softmax_base.py\n",
            "Resolving deepcourse-epita.netlify.app (deepcourse-epita.netlify.app)... 54.161.234.33, 35.169.59.174, 2600:1f18:16e:df01::64, ...\n",
            "Connecting to deepcourse-epita.netlify.app (deepcourse-epita.netlify.app)|54.161.234.33|:443... connected.\n",
            "HTTP request sent, awaiting response... 200 OK\n",
            "Length: 155 [text/x-python3]\n",
            "Saving to: ‘softmax_base.py.1’\n",
            "\n",
            "\rsoftmax_base.py.1     0%[                    ]       0  --.-KB/s               \rsoftmax_base.py.1   100%[===================>]     155  --.-KB/s    in 0s      \n",
            "\n",
            "2023-12-13 21:48:37 (44.6 MB/s) - ‘softmax_base.py.1’ saved [155/155]\n",
            "\n"
          ]
        }
      ],
      "source": [
        "# Execute this cell to see the solution, but try to do it by yourself before!\n",
        "!wget https://deepcourse-epita.netlify.app/code/backpropagation/softmax_base.py\n",
        "%pycat softmax_base.py"
      ]
    },
    {
      "cell_type": "markdown",
      "metadata": {
        "id": "JOngg3WUqgkA"
      },
      "source": [
        "Because the output vector is a probability distribution, all individual probabilities should sum to 1, let's check that:"
      ]
    },
    {
      "cell_type": "code",
      "execution_count": null,
      "metadata": {
        "id": "MzSbPCp0qgkA",
        "colab": {
          "base_uri": "https://localhost:8080/"
        },
        "outputId": "332cf187-a2c5-4aaa-a549-099c57e7d22c"
      },
      "outputs": [
        {
          "output_type": "stream",
          "name": "stdout",
          "text": [
            "tensor(1.)\n",
            "tensor(1.)\n"
          ]
        }
      ],
      "source": [
        "print(softmax(torch.tensor([1., 2., 3.])).sum())\n",
        "print(softmax(torch.tensor([3., -0.12, -4.2, 9])).sum())"
      ]
    },
    {
      "cell_type": "markdown",
      "metadata": {
        "id": "90nm0_QhqgkA"
      },
      "source": [
        "What if our model is very very confident about class 0:"
      ]
    },
    {
      "cell_type": "code",
      "execution_count": null,
      "metadata": {
        "id": "uBXSeneIqgkA",
        "colab": {
          "base_uri": "https://localhost:8080/"
        },
        "outputId": "c8ae0a20-540a-4f85-9a37-50caca1e3cb3"
      },
      "outputs": [
        {
          "output_type": "execute_result",
          "data": {
            "text/plain": [
              "tensor([nan, 0., 0.])"
            ]
          },
          "metadata": {},
          "execution_count": 12
        }
      ],
      "source": [
        "softmax(torch.tensor([234., 3., 4.]))"
      ]
    },
    {
      "cell_type": "markdown",
      "metadata": {
        "id": "LJOKxUJYqgkA"
      },
      "source": [
        "Why did we have a NaN? How can we fix it?"
      ]
    },
    {
      "cell_type": "code",
      "execution_count": null,
      "metadata": {
        "id": "3iUUOFeXqgkA",
        "colab": {
          "base_uri": "https://localhost:8080/"
        },
        "outputId": "f347bd7c-c788-448b-e253-e2f3d4eb7986"
      },
      "outputs": [
        {
          "output_type": "execute_result",
          "data": {
            "text/plain": [
              "tensor([1., 0., 0.])"
            ]
          },
          "metadata": {},
          "execution_count": 13
        }
      ],
      "source": [
        "def softmax(x):\n",
        "  max = x.max()\n",
        "  exp_x = torch.exp(x - max)\n",
        "  return exp_x / exp_x.sum()\n",
        "\n",
        "softmax(torch.tensor([234., 3., 4.]))"
      ]
    },
    {
      "cell_type": "code",
      "execution_count": null,
      "metadata": {
        "id": "AJdkLBjmA_Z8",
        "colab": {
          "base_uri": "https://localhost:8080/"
        },
        "outputId": "2eace2b1-bf8d-44a4-f733-f7010c4d0e7d"
      },
      "outputs": [
        {
          "output_type": "stream",
          "name": "stdout",
          "text": [
            "--2023-12-13 21:49:18--  https://deepcourse-epita.netlify.app/code/backpropagation/softmax_nan.py\n",
            "Resolving deepcourse-epita.netlify.app (deepcourse-epita.netlify.app)... 44.217.161.11, 54.84.236.175, 2600:1f18:2489:8200::c8, ...\n",
            "Connecting to deepcourse-epita.netlify.app (deepcourse-epita.netlify.app)|44.217.161.11|:443... connected.\n",
            "HTTP request sent, awaiting response... 200 OK\n",
            "Length: 143 [text/x-python3]\n",
            "Saving to: ‘softmax_nan.py’\n",
            "\n",
            "\rsoftmax_nan.py        0%[                    ]       0  --.-KB/s               \rsoftmax_nan.py      100%[===================>]     143  --.-KB/s    in 0s      \n",
            "\n",
            "2023-12-13 21:49:19 (65.4 MB/s) - ‘softmax_nan.py’ saved [143/143]\n",
            "\n"
          ]
        }
      ],
      "source": [
        "# Execute this cell to see the solution, but try to do it by yourself before!\n",
        "!wget https://deepcourse-epita.netlify.app/code/backpropagation/softmax_nan.py\n",
        "%pycat softmax_nan.py"
      ]
    },
    {
      "cell_type": "markdown",
      "metadata": {
        "id": "yg1ZbNDOqgkA"
      },
      "source": [
        "Perfectly identical:\n",
        "\n",
        "$$\\operatorname{softmax}(\\mathbf{x} - c)_i = \\frac{e^{x_i - c}}{\\sum_j e^{x_j - c}}$$\n",
        "$$\\operatorname{softmax}(\\mathbf{x} - c)_i = \\frac{e^{-c} e^{x_i}}{e^{-c} \\sum_j e^{x_j}}$$\n",
        "$$\\operatorname{softmax}(\\mathbf{x} - c)_i = \\frac{e^{x_i}}{\\sum_j e^{x_j}}$$\n",
        "$$\\operatorname{softmax}(\\mathbf{x} - c)_i = \\operatorname{softmax}(\\mathbf{x})_i$$\n",
        "\n",
        "\n",
        "In practice, we will have mini-batch, i.e. our probabilities tensor will be of shape $(B, C)$:"
      ]
    },
    {
      "cell_type": "code",
      "execution_count": null,
      "metadata": {
        "id": "slZIcZAGqgkA",
        "colab": {
          "base_uri": "https://localhost:8080/"
        },
        "outputId": "9fc5e37a-2c1c-4c54-c7b5-829594e20b36"
      },
      "outputs": [
        {
          "output_type": "stream",
          "name": "stdout",
          "text": [
            "tensor(1.0000)\n",
            "tensor([0.0037, 0.9963])\n"
          ]
        }
      ],
      "source": [
        "x = torch.tensor([\n",
        "    [1., 2., 3.],\n",
        "    [4., 9., -12.]\n",
        "])\n",
        "probabilities = softmax(x)\n",
        "\n",
        "print(probabilities.sum())\n",
        "print(probabilities.sum(dim=1))"
      ]
    },
    {
      "cell_type": "markdown",
      "metadata": {
        "id": "Gyh_IkhSqgkA"
      },
      "source": [
        "The whole batch probabilities sum to 1! That's not what we want. What did go wrong? Remember that most pytorch function can be applied only alongside a dimension."
      ]
    },
    {
      "cell_type": "code",
      "execution_count": null,
      "metadata": {
        "id": "f__TpQHOqgkA",
        "colab": {
          "base_uri": "https://localhost:8080/"
        },
        "outputId": "bd681799-8aba-4f4d-d513-ac28ce63d2c1"
      },
      "outputs": [
        {
          "output_type": "stream",
          "name": "stdout",
          "text": [
            "tensor([1., 1.])\n"
          ]
        },
        {
          "output_type": "execute_result",
          "data": {
            "text/plain": [
              "tensor([2, 1])"
            ]
          },
          "metadata": {},
          "execution_count": 16
        }
      ],
      "source": [
        "def softmax(x):\n",
        "  max = x.max(dim=1, keepdims=True).values\n",
        "  exp_x = torch.exp(x - max)\n",
        "  return exp_x / exp_x.sum(dim=1, keepdims=True)\n",
        "\n",
        "x = torch.tensor([\n",
        "    [1., 2., 3.],\n",
        "    [4., 9., -12.]\n",
        "])\n",
        "probabilities = softmax(x)\n",
        "\n",
        "print(probabilities.sum(dim=1))\n",
        "preds = probabilities.argmax(dim=1)\n",
        "preds"
      ]
    },
    {
      "cell_type": "code",
      "source": [
        "labels = torch.tensor([2, 3])\n",
        "\n",
        "t = labels - preds\n",
        "print(t)\n",
        "len(t[t == 0]) / len(labels) * 100"
      ],
      "metadata": {
        "colab": {
          "base_uri": "https://localhost:8080/"
        },
        "id": "YziAHyEM70LP",
        "outputId": "a9803b54-059d-4fed-80a8-12a1db44d3e3"
      },
      "execution_count": null,
      "outputs": [
        {
          "output_type": "stream",
          "name": "stdout",
          "text": [
            "tensor([0, 2])\n"
          ]
        },
        {
          "output_type": "execute_result",
          "data": {
            "text/plain": [
              "50.0"
            ]
          },
          "metadata": {},
          "execution_count": 17
        }
      ]
    },
    {
      "cell_type": "code",
      "execution_count": null,
      "metadata": {
        "id": "9KY_36w9BO9Q",
        "colab": {
          "base_uri": "https://localhost:8080/"
        },
        "outputId": "c5ccbc91-8b77-4e0c-e07a-f3cadbd145a0"
      },
      "outputs": [
        {
          "output_type": "stream",
          "name": "stdout",
          "text": [
            "--2023-12-13 21:53:38--  https://deepcourse-epita.netlify.app/code/backpropagation/softmax_batch.py\n",
            "Resolving deepcourse-epita.netlify.app (deepcourse-epita.netlify.app)... 44.217.161.11, 18.213.222.111, 2600:1f18:2489:8202::c8, ...\n",
            "Connecting to deepcourse-epita.netlify.app (deepcourse-epita.netlify.app)|44.217.161.11|:443... connected.\n",
            "HTTP request sent, awaiting response... 200 OK\n",
            "Length: 267 [text/x-python3]\n",
            "Saving to: ‘softmax_batch.py’\n",
            "\n",
            "\rsoftmax_batch.py      0%[                    ]       0  --.-KB/s               \rsoftmax_batch.py    100%[===================>]     267  --.-KB/s    in 0s      \n",
            "\n",
            "2023-12-13 21:53:38 (78.2 MB/s) - ‘softmax_batch.py’ saved [267/267]\n",
            "\n"
          ]
        }
      ],
      "source": [
        "# Execute this cell to see the solution, but try to do it by yourself before!\n",
        "!wget https://deepcourse-epita.netlify.app/code/backpropagation/softmax_batch.py\n",
        "%pycat softmax_batch.py"
      ]
    },
    {
      "cell_type": "markdown",
      "metadata": {
        "id": "AJNcpbJBqgkA"
      },
      "source": [
        "Now, what about a loss? Let's code the cross-entropy!\n",
        "\n",
        "Tips:\n",
        "- Remember about the dimensions, we have mini-batches\n",
        "- Log of 0 is undefined, what trick can we do then?"
      ]
    },
    {
      "cell_type": "code",
      "execution_count": null,
      "metadata": {
        "id": "0JmzXQyXqgkA",
        "colab": {
          "base_uri": "https://localhost:8080/"
        },
        "outputId": "26014351-98bf-4dd4-8a42-bc536726c112"
      },
      "outputs": [
        {
          "output_type": "execute_result",
          "data": {
            "text/plain": [
              "tensor([0.1054, 0.3567, 1.6094, 0.9163])"
            ]
          },
          "metadata": {},
          "execution_count": 20
        }
      ],
      "source": [
        "def cross_entropy(probs, targets):\n",
        "  log_probs = torch.log(probs + 1e-8)\n",
        "  prod = targets * log_probs\n",
        "  return - torch.sum(prod, dim=1)\n",
        "\n",
        "probs = torch.tensor([\n",
        "    [0.9, 0.1],\n",
        "    [0.7, 0.3],\n",
        "    [0.2, 0.8],\n",
        "    [0.6, 0.4]\n",
        "])\n",
        "\n",
        "targets = torch.eye(2)[torch.tensor([0, 0, 0, 1])]\n",
        "cross_entropy(probs, targets)"
      ]
    },
    {
      "cell_type": "code",
      "source": [
        "torch.mean((probs == targets).float())"
      ],
      "metadata": {
        "colab": {
          "base_uri": "https://localhost:8080/"
        },
        "id": "mzKcgb3IOUmQ",
        "outputId": "b2099e18-b1cd-4c6f-e8a3-3fb4c22f69d8"
      },
      "execution_count": null,
      "outputs": [
        {
          "output_type": "execute_result",
          "data": {
            "text/plain": [
              "tensor(0.)"
            ]
          },
          "metadata": {},
          "execution_count": 21
        }
      ]
    },
    {
      "cell_type": "code",
      "execution_count": null,
      "metadata": {
        "id": "bgwDqpm1BaSQ",
        "colab": {
          "base_uri": "https://localhost:8080/"
        },
        "outputId": "6e233360-7706-4ad9-d59c-b1d4180b9eeb"
      },
      "outputs": [
        {
          "output_type": "stream",
          "name": "stdout",
          "text": [
            "--2023-12-13 21:54:18--  https://deepcourse-epita.netlify.app/code/backpropagation/ce.py\n",
            "Resolving deepcourse-epita.netlify.app (deepcourse-epita.netlify.app)... 18.213.222.111, 54.161.234.33, 2600:1f18:16e:df01::64, ...\n",
            "Connecting to deepcourse-epita.netlify.app (deepcourse-epita.netlify.app)|18.213.222.111|:443... connected.\n",
            "HTTP request sent, awaiting response... 200 OK\n",
            "Length: 271 [text/x-python3]\n",
            "Saving to: ‘ce.py’\n",
            "\n",
            "\rce.py                 0%[                    ]       0  --.-KB/s               \rce.py               100%[===================>]     271  --.-KB/s    in 0s      \n",
            "\n",
            "2023-12-13 21:54:18 (218 MB/s) - ‘ce.py’ saved [271/271]\n",
            "\n"
          ]
        }
      ],
      "source": [
        "# Execute this cell to see the solution, but try to do it by yourself before!\n",
        "!wget https://deepcourse-epita.netlify.app/code/backpropagation/ce.py\n",
        "%pycat ce.py"
      ]
    },
    {
      "cell_type": "markdown",
      "metadata": {
        "id": "MECroglyqgkA"
      },
      "source": [
        "Loss is most important when we are wrong by a large margin. Likewise it is smallest when we are extremely confident. Now you should see that the cross-entropy is maximizing the confidence (also known as the *likelihood*) into the ground-truth class.\n",
        "\n",
        "Try running the cross-entropy with different probabilities to get an intuition about it."
      ]
    },
    {
      "cell_type": "markdown",
      "metadata": {
        "id": "-s_Sul3sZjks"
      },
      "source": [
        "---\n",
        "\n",
        "# 3. Logistic Regression\n",
        "\n",
        "Now that we have our `softmax` activation and `cross-entropy` loss, we can code a **logistic regression**. Behind this fancy name, it's simply a 1-layer neural network followed a softmax.\n",
        "\n",
        "Here is the forward formula:\n",
        "\n",
        "$$\\tilde{\\mathbf{y}} = \\mathbf{X}\\mathbf{W} + \\mathbf{b}$$\n",
        "$$\\hat{\\mathbf{y}} = \\text{softmax}(\\tilde{\\mathbf{y}})$$\n",
        "$$\\mathcal{L} = -\\frac{1}{B} \\sum_{b=1}^B y_b \\log \\hat{\\mathbf{y}}_b $$\n",
        "\n",
        "With $\\mathbf{X} \\in \\mathbb{R}^{B \\times N}$, $\\mathbf{W} \\in \\mathbb{R}^{N \\times C}$, and $\\mathbf{b} \\in \\mathbb{R}^{C}$. With $B$ being the batch size, $N$ the number of input pixels, and $C$ the number of classes.\n",
        "\n",
        "For the backward, We can simplify formulas with a shortcut by taking directly the gradient of the loss $\\mathcal{L}$ with relation to (w.r.t) the logits $\\tilde{\\mathbf{y}}$ (*see course for details*):\n",
        "\n",
        "$$\\nabla_\\tilde{\\mathbf{y}} \\mathcal{L} = \\hat{\\mathbf{y}} - \\mathbf{y}$$\n",
        "\n",
        "Only two gradients are of interest: the one with relation to (w.r.t) the weights $\\mathbf{W}$ and $\\mathbf{b}$, the neurons we want to update.\n",
        "\n",
        "$$\\nabla_\\mathbf{W} \\mathcal{L} = (\\nabla_\\mathbf{W} \\tilde{\\mathbf{y}})^T \\nabla_\\tilde{\\mathbf{y}} \\mathcal{L}$$\n",
        "$$\\nabla_\\mathbf{b} \\mathcal{L} = \\nabla_\\tilde{\\mathbf{y}} \\mathcal{L}$$\n",
        "\n",
        "**Hint**: Look at the shape of each tensor if you're confused, i.e., the gradient $\\nabla_\\mathbf{W} \\mathcal{L}$ should have the same shape as $\\mathbf{W}$!\n",
        "\n",
        "\n",
        "We also recall that the gradient with respect to W are a matrix based on $X$ and not simply $X$\n",
        "$$ \\frac{\\partial WX + b}{\\partial W_{k,l}} = \\frac{\\sum_{j=1}^{J} W_{k,j} X_{j} + b_k}{\\partial W_{k,l}} = X_l\n",
        "$$\n"
      ]
    },
    {
      "cell_type": "code",
      "execution_count": null,
      "metadata": {
        "id": "WJaDibEpqgkA"
      },
      "outputs": [],
      "source": [
        "class LogisticRegression:\n",
        "    def __init__(self, input_size, nb_classes, learning_rate=0.5):\n",
        "        self.w = torch.empty(input_size, nb_classes)\n",
        "        torch.nn.init.xavier_normal_(self.w)\n",
        "        self.b = torch.zeros(nb_classes)\n",
        "        self.learning_rate = learning_rate\n",
        "\n",
        "    def forward(self, x):\n",
        "        return torch.mm(x, self.w) + self.b\n",
        "\n",
        "    def fit(self, inputs, targets, train=True):\n",
        "        probs = softmax(self.forward(inputs))\n",
        "        if train:\n",
        "          self.backward(inputs, probs, targets)\n",
        "        return cross_entropy(probs, torch.eye(10)[targets]).mean()\n",
        "         # torch.eye used to allow pointwise mul (targets is R^B and we need R^{BxC})\n",
        "         # mean used to get a scalar that holds any sense but won't be used anyway\n",
        "\n",
        "    def backward(self, inputs, probs, targets):\n",
        "        batch_size = len(inputs)\n",
        "        loss_grad = probs - torch.eye(10)[targets]\n",
        "        grad_b = torch.sum(loss_grad, dim=0) / batch_size\n",
        "        grad_w = torch.mm(inputs.T, loss_grad) / batch_size\n",
        "\n",
        "        self.w = self.w - self.learning_rate * grad_w\n",
        "        self.b = self.b - self.learning_rate * grad_b\n",
        "        # TODO, should be called by `fit`\n",
        "\n",
        "    def accuracy(self, inputs, targets):\n",
        "        preds = self.forward(inputs).argmax(dim=1)\n",
        "        return torch.mean((preds == targets).float())\n",
        "         # mean used to get a scalar that holds any sense but won't be used anyway"
      ]
    },
    {
      "cell_type": "code",
      "execution_count": null,
      "metadata": {
        "id": "SNYK_VyOyWJU",
        "colab": {
          "base_uri": "https://localhost:8080/"
        },
        "outputId": "42238201-5281-46fe-baf0-510ab3ead2f4"
      },
      "outputs": [
        {
          "output_type": "stream",
          "name": "stdout",
          "text": [
            "--2023-10-25 01:58:12--  https://deepcourse-epita.netlify.app/code/backpropagation/logreg.py\n",
            "Resolving deepcourse-epita.netlify.app (deepcourse-epita.netlify.app)... 50.18.215.94, 13.57.148.141, 2600:1f1c:446:4900::64, ...\n",
            "Connecting to deepcourse-epita.netlify.app (deepcourse-epita.netlify.app)|50.18.215.94|:443... connected.\n",
            "HTTP request sent, awaiting response... 200 OK\n",
            "Length: 1086 (1.1K) [text/x-python3]\n",
            "Saving to: ‘logreg.py.2’\n",
            "\n",
            "\rlogreg.py.2           0%[                    ]       0  --.-KB/s               \rlogreg.py.2         100%[===================>]   1.06K  --.-KB/s    in 0s      \n",
            "\n",
            "2023-10-25 01:58:13 (23.7 MB/s) - ‘logreg.py.2’ saved [1086/1086]\n",
            "\n"
          ]
        }
      ],
      "source": [
        "# Execute this cell to see the solution, but try to do it by yourself before!\n",
        "!wget https://deepcourse-epita.netlify.app/code/backpropagation/logreg.py\n",
        "%pycat logreg.py"
      ]
    },
    {
      "cell_type": "code",
      "execution_count": null,
      "metadata": {
        "id": "DIFAn7dPqgkA"
      },
      "outputs": [],
      "source": [
        "model = LogisticRegression(X.shape[1], len(torch.unique(Y)), 0.5)"
      ]
    },
    {
      "cell_type": "markdown",
      "metadata": {
        "id": "Izky6kr8yz9I"
      },
      "source": [
        "Let's measure the accuracy of the untrained model. What does it, roughtly, correspond to? Any idea why?"
      ]
    },
    {
      "cell_type": "code",
      "execution_count": null,
      "metadata": {
        "id": "zpMAFwqEqgkA",
        "colab": {
          "base_uri": "https://localhost:8080/"
        },
        "outputId": "b5e92f45-1309-4ed1-8815-43fb7247f823"
      },
      "outputs": [
        {
          "output_type": "execute_result",
          "data": {
            "text/plain": [
              "tensor(0.1002)"
            ]
          },
          "metadata": {},
          "execution_count": 92
        }
      ],
      "source": [
        "model.accuracy(X, Y)"
      ]
    },
    {
      "cell_type": "markdown",
      "metadata": {
        "id": "WfbVsT_hzBQs"
      },
      "source": [
        "Let's train! We are going to see the whole dataset `nb_epochs` times, by chunk of `batch_size` images.\n",
        "\n",
        "**Note** that we are training and testing on the same set here for simplicity, but in later courses, or in real-life, don't do that."
      ]
    },
    {
      "cell_type": "code",
      "execution_count": null,
      "metadata": {
        "id": "YGz4Vkj0qgkA",
        "colab": {
          "base_uri": "https://localhost:8080/",
          "height": 623
        },
        "outputId": "898ea68c-da6e-4f63-e0e9-7dba549aeba5"
      },
      "outputs": [
        {
          "output_type": "stream",
          "name": "stdout",
          "text": [
            "Epoch: 0, loss: 0.7523345947265625, accuracy: 0.7929883003234863\n",
            "Epoch: 1, loss: 0.41806986927986145, accuracy: 0.9087367653846741\n",
            "Epoch: 2, loss: 0.3133191764354706, accuracy: 0.9354479908943176\n",
            "Epoch: 3, loss: 0.26345184445381165, accuracy: 0.9454646706581116\n",
            "Epoch: 4, loss: 0.23374299705028534, accuracy: 0.9493600726127625\n",
            "Epoch: 5, loss: 0.21345780789852142, accuracy: 0.9510294795036316\n",
            "Epoch: 6, loss: 0.19836169481277466, accuracy: 0.9571508169174194\n",
            "Epoch: 7, loss: 0.186475932598114, accuracy: 0.9616026878356934\n",
            "Epoch: 8, loss: 0.17674918472766876, accuracy: 0.9627156257629395\n",
            "Epoch: 9, loss: 0.16856467723846436, accuracy: 0.9632720947265625\n"
          ]
        },
        {
          "output_type": "display_data",
          "data": {
            "text/plain": [
              "<Figure size 640x480 with 2 Axes>"
            ],
            "image/png": "[encoded data removed]"
          },
          "metadata": {}
        }
      ],
      "source": [
        "batch_size = 32\n",
        "nb_epochs = 10\n",
        "\n",
        "epochs, accuracies, losses = [], [], []\n",
        "\n",
        "for epoch in range(nb_epochs):\n",
        "    for batch_index in range(0, len(X), batch_size):\n",
        "        batch_X = X[batch_index:batch_index + batch_size]\n",
        "        batch_Y = Y[batch_index:batch_index + batch_size]\n",
        "\n",
        "        loss = model.fit(batch_X, batch_Y)\n",
        "\n",
        "    loss = model.fit(X, Y, train=False)\n",
        "    acc = model.accuracy(X, Y)\n",
        "\n",
        "    print(f\"Epoch: {epoch}, loss: {loss}, accuracy: {acc}\")\n",
        "    epochs.append(epoch)\n",
        "    losses.append(loss)\n",
        "    accuracies.append(acc)\n",
        "\n",
        "plt.subplot(1, 2, 1)\n",
        "plt.plot(epochs, losses)\n",
        "plt.xlabel(\"Epoch\")\n",
        "plt.ylabel(\"Loss\")\n",
        "\n",
        "plt.subplot(1, 2, 2)\n",
        "plt.plot(epochs, accuracies)\n",
        "plt.xlabel(\"Epoch\")\n",
        "plt.ylabel(\"accuracy\");"
      ]
    },
    {
      "cell_type": "markdown",
      "metadata": {
        "id": "VQhyi4XgqgkA"
      },
      "source": [
        "---\n",
        "\n",
        "# 4. Multi-Layer Perceptron\n",
        "\n",
        "Now, let's build a Multi-Layer Perceptron, aka a neural network with hidden layers.\n",
        "\n",
        "Hidden layers imply hidden activations. `tanh` is already implemented for you: `torch.tanh`.\n",
        "\n",
        "This function is applied **element-wise**, meaning that it is applied independently on every point of the tensor (not like softmax). We now need the gradient of this function:"
      ]
    },
    {
      "cell_type": "code",
      "execution_count": null,
      "metadata": {
        "id": "qKInLQbfqgkA"
      },
      "outputs": [],
      "source": [
        "def grad_tanh(tanh_results):\n",
        "    return 1 - tanh_results ** 2"
      ]
    },
    {
      "cell_type": "code",
      "execution_count": null,
      "metadata": {
        "id": "MlsK162Rz8fU",
        "colab": {
          "base_uri": "https://localhost:8080/"
        },
        "outputId": "cc45dcdb-4e49-4f18-dcf1-f74e8b064522"
      },
      "outputs": [
        {
          "output_type": "stream",
          "name": "stdout",
          "text": [
            "--2023-10-25 01:09:10--  https://deepcourse-epita.netlify.app/code/backpropagation/gradtanh.py\n",
            "Resolving deepcourse-epita.netlify.app (deepcourse-epita.netlify.app)... 50.18.215.94, 13.57.148.141, 2600:1f1c:446:4901::64, ...\n",
            "Connecting to deepcourse-epita.netlify.app (deepcourse-epita.netlify.app)|50.18.215.94|:443... connected.\n",
            "HTTP request sent, awaiting response... 200 OK\n",
            "Length: 62 [text/x-python3]\n",
            "Saving to: ‘gradtanh.py’\n",
            "\n",
            "\rgradtanh.py           0%[                    ]       0  --.-KB/s               \rgradtanh.py         100%[===================>]      62  --.-KB/s    in 0s      \n",
            "\n",
            "2023-10-25 01:09:10 (37.2 MB/s) - ‘gradtanh.py’ saved [62/62]\n",
            "\n"
          ]
        }
      ],
      "source": [
        "# Execute this cell to see the solution, but try to do it by yourself before!\n",
        "!wget https://deepcourse-epita.netlify.app/code/backpropagation/gradtanh.py\n",
        "%pycat gradtanh.py"
      ]
    },
    {
      "cell_type": "markdown",
      "metadata": {
        "id": "wrmEvuvd0HTg"
      },
      "source": [
        "Now the MLP is like the Logistic Regression we coded previously, but with hidden layers!\n",
        "\n",
        "We'll only start with one hidden layer to start. The forward should be straightforward, and for the backward try to derive it by yourself. If you're really stuck, you can have a look at the code solution, or the course. But after you've tried enough!"
      ]
    },
    {
      "cell_type": "code",
      "execution_count": null,
      "metadata": {
        "id": "NKgrbNKpqgkA"
      },
      "outputs": [],
      "source": [
        "class MLP:\n",
        "    def __init__(self, input_size, hidden_size, nb_classes, learning_rate=0.1):\n",
        "        self.w_hidden = torch.empty((input_size, hidden_size))\n",
        "        torch.nn.init.xavier_normal_(self.w_hidden)\n",
        "        self.b_hidden = torch.zeros(hidden_size)\n",
        "\n",
        "        self.w_output = torch.empty((hidden_size, nb_classes))\n",
        "        torch.nn.init.xavier_normal_(self.w_output)\n",
        "        self.b_output = torch.zeros(nb_classes)\n",
        "\n",
        "        self.learning_rate = learning_rate\n",
        "\n",
        "    def forward(self, x):\n",
        "        h_tilde = torch.mm(x, self.w_hidden) + self.b_hidden\n",
        "        h = torch.tanh(h_tilde)\n",
        "        logits = torch.mm(h, self.w_output) + self.b_output\n",
        "        probs = softmax(logits)\n",
        "        return h_tilde, h, logits, probs\n",
        "       # Remember to keep all intermediary values that are needed for the backward pass\n",
        "\n",
        "    def fit(self, inputs, targets, train=True):\n",
        "        h_tilde, h, logits, probs = self.forward(inputs)\n",
        "        if train:\n",
        "          self.backward(inputs, targets, h_tilde, h, logits, probs)\n",
        "        return cross_entropy(probs, torch.eye(10)[targets]).mean()\n",
        "\n",
        "    def backward(self, inputs, targets, h_tilde, h, logits, probs):\n",
        "      batch_size = len(inputs)\n",
        "      loss_grad = probs - torch.eye(10)[targets]\n",
        "      grad_w_output = torch.mm(h.T, loss_grad) / batch_size\n",
        "      grad_b_output = torch.sum(loss_grad, dim=0) / batch_size\n",
        "\n",
        "      loss_grad_h = torch.mm(loss_grad, self.w_output.T) * grad_tanh(h) # huh ?\n",
        "      grad_w_hidden = torch.mm(inputs.T, loss_grad_h) / batch_size\n",
        "      grad_b_hidden = torch.sum(loss_grad_h, dim=0) / batch_size\n",
        "\n",
        "      self.w_output = self.w_output - self.learning_rate * grad_w_output\n",
        "      self.b_output = self.b_output - self.learning_rate * grad_b_output\n",
        "\n",
        "      self.w_hidden = self.w_hidden - self.learning_rate * grad_w_hidden\n",
        "      self.b_hidden = self.b_hidden - self.learning_rate * grad_b_hidden\n",
        "\n",
        "    def accuracy(self, inputs, targets):\n",
        "        preds = self.forward(inputs)[-2].argmax(dim=1)\n",
        "        return torch.mean((preds == targets).float())"
      ]
    },
    {
      "cell_type": "markdown",
      "metadata": {
        "id": "eSEVkT3P1NRo"
      },
      "source": [
        "The same code used for the Logisitic Regression can also be used for the MLP.\n",
        "\n",
        "That's the beauty of it, as long as our model can take in inputs images and predicts their digits, we don't care about the internals in the training loops:"
      ]
    },
    {
      "cell_type": "code",
      "execution_count": null,
      "metadata": {
        "id": "nMXZB__6qgkA",
        "colab": {
          "base_uri": "https://localhost:8080/",
          "height": 623
        },
        "outputId": "6d948d11-8ec0-4e54-d4f8-1704bde7504e"
      },
      "outputs": [
        {
          "output_type": "stream",
          "name": "stdout",
          "text": [
            "Epoch: 0, loss: 0.36261895298957825, accuracy: 0.900389552116394\n",
            "Epoch: 1, loss: 0.21063801646232605, accuracy: 0.9410127997398376\n",
            "Epoch: 2, loss: 0.16497142612934113, accuracy: 0.9532554149627686\n",
            "Epoch: 3, loss: 0.14220218360424042, accuracy: 0.9582637548446655\n",
            "Epoch: 4, loss: 0.12774595618247986, accuracy: 0.9638286232948303\n",
            "Epoch: 5, loss: 0.11688178032636642, accuracy: 0.9660545587539673\n",
            "Epoch: 6, loss: 0.10776999592781067, accuracy: 0.9693934321403503\n",
            "Epoch: 7, loss: 0.09971089661121368, accuracy: 0.9716193675994873\n",
            "Epoch: 8, loss: 0.0924701914191246, accuracy: 0.9738453030586243\n",
            "Epoch: 9, loss: 0.0859774649143219, accuracy: 0.9755147695541382\n"
          ]
        },
        {
          "output_type": "display_data",
          "data": {
            "text/plain": [
              "<Figure size 640x480 with 2 Axes>"
            ],
            "image/png": "[encoded data removed]"
          },
          "metadata": {}
        }
      ],
      "source": [
        "model = MLP(X.shape[1], 50, len(torch.unique(Y)), 0.5)\n",
        "model.accuracy(X, Y)\n",
        "\n",
        "batch_size = 32\n",
        "nb_epochs = 10\n",
        "\n",
        "epochs, accuracies, losses = [], [], []\n",
        "\n",
        "for epoch in range(nb_epochs):\n",
        "    for batch_index in range(0, len(X), batch_size):\n",
        "        batch_X = X[batch_index:batch_index + batch_size]\n",
        "        batch_Y = Y[batch_index:batch_index + batch_size]\n",
        "\n",
        "        model.fit(batch_X, batch_Y)\n",
        "\n",
        "    loss = model.fit(X, Y, train=False)\n",
        "    acc = model.accuracy(X, Y)\n",
        "\n",
        "    print(f\"Epoch: {epoch}, loss: {loss}, accuracy: {acc}\")\n",
        "    epochs.append(epoch)\n",
        "    losses.append(loss)\n",
        "    accuracies.append(acc)\n",
        "\n",
        "plt.subplot(1, 2, 1)\n",
        "plt.plot(epochs, losses)\n",
        "plt.xlabel(\"Epoch\")\n",
        "plt.ylabel(\"Loss\")\n",
        "\n",
        "plt.subplot(1, 2, 2)\n",
        "plt.plot(epochs, accuracies)\n",
        "plt.xlabel(\"Epoch\")\n",
        "plt.ylabel(\"accuracy\");"
      ]
    },
    {
      "cell_type": "code",
      "execution_count": null,
      "metadata": {
        "id": "IK2wRvawkdhm",
        "colab": {
          "base_uri": "https://localhost:8080/"
        },
        "outputId": "baf9a240-5f21-4839-fb34-78b7e8f24ee5"
      },
      "outputs": [
        {
          "output_type": "stream",
          "name": "stdout",
          "text": [
            "--2023-10-31 09:31:21--  https://deepcourse-epita.netlify.app/code/backpropagation/mlp.py\n",
            "Resolving deepcourse-epita.netlify.app (deepcourse-epita.netlify.app)... 35.169.59.174, 44.217.161.11, 2600:1f18:16e:df00::64, ...\n",
            "Connecting to deepcourse-epita.netlify.app (deepcourse-epita.netlify.app)|35.169.59.174|:443... connected.\n",
            "HTTP request sent, awaiting response... 200 OK\n",
            "Length: 1871 (1.8K) [text/x-python3]\n",
            "Saving to: ‘mlp.py’\n",
            "\n",
            "mlp.py              100%[===================>]   1.83K  --.-KB/s    in 0s      \n",
            "\n",
            "2023-10-31 09:31:21 (35.6 MB/s) - ‘mlp.py’ saved [1871/1871]\n",
            "\n"
          ]
        }
      ],
      "source": [
        "# Execute this cell to see the solution, but try to do it by yourself before!\n",
        "!wget https://deepcourse-epita.netlify.app/code/backpropagation/mlp.py\n",
        "%pycat mlp.py"
      ]
    },
    {
      "cell_type": "markdown",
      "metadata": {
        "id": "RzGlhtIV1ml8"
      },
      "source": [
        "---\n",
        "\n",
        "# Notebook Summary\n",
        "\n",
        "We learn how to:\n",
        "- code a robust softmax\n",
        "- logistic regression with forward and backward pass\n",
        "- MLP with forward and backward pass\n",
        "\n",
        "# Further Works\n",
        "\n",
        "- Try to implement a MLP with two hidden layers, or three, or as much as the user want, through a simple API.\n",
        "- Does the initialization of the weights matter? Try tweaking it (more on it in later courses)"
      ]
    },
    {
      "cell_type": "code",
      "execution_count": null,
      "metadata": {
        "id": "jSjFRrCO2O7M"
      },
      "outputs": [],
      "source": []
    }
  ],
  "metadata": {
    "colab": {
      "provenance": []
    },
    "kernelspec": {
      "display_name": "Python 3.10.6 64-bit",
      "language": "python",
      "name": "python3"
    },
    "language_info": {
      "codemirror_mode": {
        "name": "ipython",
        "version": 3
      },
      "file_extension": ".py",
      "mimetype": "text/x-python",
      "name": "python",
      "nbconvert_exporter": "python",
      "pygments_lexer": "ipython3",
      "version": "3.9.12"
    },
    "vscode": {
      "interpreter": {
        "hash": "aee8b7b246df8f9039afb4144a1f6fd8d2ca17a180786b69acc140d282b71a49"
      }
    }
  },
  "nbformat": 4,
  "nbformat_minor": 0
}